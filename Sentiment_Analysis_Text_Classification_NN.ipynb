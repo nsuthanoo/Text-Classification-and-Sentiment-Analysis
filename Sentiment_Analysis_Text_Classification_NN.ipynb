{
  "nbformat": 4,
  "nbformat_minor": 0,
  "metadata": {
    "colab": {
      "name": "Sentiment Analysis/Text Classification- NN.ipynb",
      "provenance": []
    },
    "kernelspec": {
      "name": "python3",
      "display_name": "Python 3"
    }
  },
  "cells": [
    {
      "cell_type": "code",
      "metadata": {
        "id": "ZioLyGheJKdv",
        "colab_type": "code",
        "colab": {
          "base_uri": "https://localhost:8080/",
          "height": 33
        },
        "outputId": "33379d74-66c4-4c50-f103-c9627cbe42c2"
      },
      "source": [
        "#Imports\n",
        "%tensorflow_version 1.x\n",
        "\n",
        "import numpy as np\n",
        "import pandas as pd\n",
        "from numpy.linalg import norm\n",
        "from sklearn.metrics import classification_report, confusion_matrix\n",
        "from IPython.display import Image, display_png\n",
        "from gensim.models import word2vec, KeyedVectors\n",
        "from keras.models import Sequential\n",
        "from keras.layers import Input, Embedding, Dense, Dropout, Flatten, GlobalAveragePooling1D\n",
        "from keras.utils import to_categorical, plot_model\n",
        "from keras.preprocessing.sequence import pad_sequences\n",
        "from keras.optimizers import RMSprop\n",
        "import matplotlib.pyplot as plt\n",
        "plt.style.use('ggplot')"
      ],
      "execution_count": null,
      "outputs": [
        {
          "output_type": "stream",
          "text": [
            "Using TensorFlow backend.\n"
          ],
          "name": "stderr"
        }
      ]
    },
    {
      "cell_type": "code",
      "metadata": {
        "id": "UMCup2URMZjT",
        "colab_type": "code",
        "colab": {
          "base_uri": "https://localhost:8080/",
          "height": 216
        },
        "outputId": "4be1a800-325e-49a0-e739-18e7dc8feea2"
      },
      "source": [
        "#downs\n",
        "!gdown --id 1s-8A8sF7b23Tb9Myoc_3DTl6YXLpL17L  # train data\n",
        "!gdown --id 1YtAHCzeZUXGZQ9cimdkkUq4lUk3ZH-I_  # evaluate.py\n",
        "!gdown --id 1EacvwnOHfwa4FiZy2K8mFpFjmpb4Mt-t #test"
      ],
      "execution_count": null,
      "outputs": [
        {
          "output_type": "stream",
          "text": [
            "Downloading...\n",
            "From: https://drive.google.com/uc?id=1s-8A8sF7b23Tb9Myoc_3DTl6YXLpL17L\n",
            "To: /content/lab4_train.csv\n",
            "100% 331k/331k [00:00<00:00, 81.0MB/s]\n",
            "Downloading...\n",
            "From: https://drive.google.com/uc?id=1YtAHCzeZUXGZQ9cimdkkUq4lUk3ZH-I_\n",
            "To: /content/evaluate.py\n",
            "100% 7.03k/7.03k [00:00<00:00, 10.1MB/s]\n",
            "Downloading...\n",
            "From: https://drive.google.com/uc?id=1EacvwnOHfwa4FiZy2K8mFpFjmpb4Mt-t\n",
            "To: /content/lab4_test.csv\n",
            "100% 36.2k/36.2k [00:00<00:00, 13.1MB/s]\n"
          ],
          "name": "stdout"
        }
      ]
    },
    {
      "cell_type": "code",
      "metadata": {
        "id": "FmZPivAXXRwH",
        "colab_type": "code",
        "colab": {
          "base_uri": "https://localhost:8080/",
          "height": 33
        },
        "outputId": "1d29f8e2-dec2-478e-9686-a5ad134b0623"
      },
      "source": [
        "!wc -l tokenized.tsv"
      ],
      "execution_count": null,
      "outputs": [
        {
          "output_type": "stream",
          "text": [
            "3155 tokenized.tsv\n"
          ],
          "name": "stdout"
        }
      ]
    },
    {
      "cell_type": "code",
      "metadata": {
        "id": "Rf8OejmEXegw",
        "colab_type": "code",
        "colab": {
          "base_uri": "https://localhost:8080/",
          "height": 70
        },
        "outputId": "fc6a4ff8-7d12-464f-b243-4e4c87ecf65f"
      },
      "source": [
        "sentences = word2vec.LineSentence('tokenized.tsv')\n",
        "model = word2vec.Word2Vec(sentences, sg=0, size=300, min_count=5, window=5, iter=6)\n",
        "model.wv.save_word2vec_format('tokenized.bin', binary=True)"
      ],
      "execution_count": null,
      "outputs": [
        {
          "output_type": "stream",
          "text": [
            "/usr/local/lib/python3.6/dist-packages/smart_open/smart_open_lib.py:402: UserWarning: This function is deprecated, use smart_open.open instead. See the migration notes for details: https://github.com/RaRe-Technologies/smart_open/blob/master/README.rst#migrating-to-the-new-open-function\n",
            "  'See the migration notes for details: %s' % _MIGRATION_NOTES_URL\n"
          ],
          "name": "stderr"
        }
      ]
    },
    {
      "cell_type": "code",
      "metadata": {
        "id": "JoEoF4-XX_cn",
        "colab_type": "code",
        "colab": {}
      },
      "source": [
        "#Data to Trains and Devs\n",
        "data = pd.read_csv('lab4_train.csv') \n",
        "train, dev = np.split(data, [int(len(data)*0.8)]) # train:dev = 80:20"
      ],
      "execution_count": null,
      "outputs": []
    },
    {
      "cell_type": "code",
      "metadata": {
        "id": "IFMrdFZMYLDO",
        "colab_type": "code",
        "colab": {
          "base_uri": "https://localhost:8080/",
          "height": 83
        },
        "outputId": "35932753-c309-4997-c9af-889e73a23b4a"
      },
      "source": [
        "#Tokenizing\n",
        "import tqdm\n",
        "import nltk\n",
        "nltk.download('punkt')\n",
        "dtitle_list = dev['text'].to_list()\n",
        "dtkt=[]\n",
        "for st in tqdm.tqdm(dtitle_list):\n",
        "  dtkt.append(nltk.word_tokenize(st))\n",
        "dev['tokenized']=dtkt\n",
        "ttitle_list = train['text'].to_list()\n",
        "ttkt=[]\n",
        "for st in tqdm.tqdm(ttitle_list):\n",
        "  ttkt.append(nltk.word_tokenize(st))\n",
        "train['tokenized']=ttkt"
      ],
      "execution_count": null,
      "outputs": [
        {
          "output_type": "stream",
          "text": [
            "100%|██████████| 632/632 [00:00<00:00, 6759.24it/s]\n",
            "  0%|          | 0/2524 [00:00<?, ?it/s]"
          ],
          "name": "stderr"
        },
        {
          "output_type": "stream",
          "text": [
            "[nltk_data] Downloading package punkt to /root/nltk_data...\n",
            "[nltk_data]   Package punkt is already up-to-date!\n"
          ],
          "name": "stdout"
        },
        {
          "output_type": "stream",
          "text": [
            "100%|██████████| 2524/2524 [00:00<00:00, 6575.24it/s]\n"
          ],
          "name": "stderr"
        }
      ]
    },
    {
      "cell_type": "code",
      "metadata": {
        "id": "OBT6dvF9Ydhh",
        "colab_type": "code",
        "colab": {}
      },
      "source": [
        "# create new dataframe(the DEV)\n",
        "newdf = pd.DataFrame()\n",
        "# add columns (เอาผลมารวมกัน)\n",
        "newdf['id'] = dev['id']\n",
        "newdf['tokenized']= dev['tokenized']\n",
        "newdf['aspectCategory'] = dev['aspectCategory']  # prediction of aspect\n",
        "newdf['polarity'] = dev['polarity']  # prediction of polarity"
      ],
      "execution_count": null,
      "outputs": []
    },
    {
      "cell_type": "code",
      "metadata": {
        "id": "5_2vpgVkYmZu",
        "colab_type": "code",
        "colab": {
          "base_uri": "https://localhost:8080/",
          "height": 406
        },
        "outputId": "01e5cd0c-9ad3-4831-a2bf-927278397e3d"
      },
      "source": [
        "# add column \"length\"\n",
        "train['length'] = train['tokenized'].apply(lambda x:len(x))\n",
        "dev['length'] = dev['tokenized'].apply(lambda x:len(x))\n",
        "newdf['length'] = newdf['tokenized'].apply(lambda x:len(x))\n",
        "newdf"
      ],
      "execution_count": null,
      "outputs": [
        {
          "output_type": "execute_result",
          "data": {
            "text/html": [
              "<div>\n",
              "<style scoped>\n",
              "    .dataframe tbody tr th:only-of-type {\n",
              "        vertical-align: middle;\n",
              "    }\n",
              "\n",
              "    .dataframe tbody tr th {\n",
              "        vertical-align: top;\n",
              "    }\n",
              "\n",
              "    .dataframe thead th {\n",
              "        text-align: right;\n",
              "    }\n",
              "</style>\n",
              "<table border=\"1\" class=\"dataframe\">\n",
              "  <thead>\n",
              "    <tr style=\"text-align: right;\">\n",
              "      <th></th>\n",
              "      <th>id</th>\n",
              "      <th>tokenized</th>\n",
              "      <th>aspectCategory</th>\n",
              "      <th>polarity</th>\n",
              "      <th>length</th>\n",
              "    </tr>\n",
              "  </thead>\n",
              "  <tbody>\n",
              "    <tr>\n",
              "      <th>2524</th>\n",
              "      <td>3235</td>\n",
              "      <td>[The, staff, has, always, been, friendly, with...</td>\n",
              "      <td>service</td>\n",
              "      <td>positive</td>\n",
              "      <td>22</td>\n",
              "    </tr>\n",
              "    <tr>\n",
              "      <th>2525</th>\n",
              "      <td>3480</td>\n",
              "      <td>[Get, it, together, .]</td>\n",
              "      <td>anecdotes/miscellaneous</td>\n",
              "      <td>negative</td>\n",
              "      <td>4</td>\n",
              "    </tr>\n",
              "    <tr>\n",
              "      <th>2526</th>\n",
              "      <td>1459</td>\n",
              "      <td>[The, eggplant, parmesan, is, also, great, ,, ...</td>\n",
              "      <td>food</td>\n",
              "      <td>positive</td>\n",
              "      <td>27</td>\n",
              "    </tr>\n",
              "    <tr>\n",
              "      <th>2527</th>\n",
              "      <td>1459</td>\n",
              "      <td>[The, eggplant, parmesan, is, also, great, ,, ...</td>\n",
              "      <td>anecdotes/miscellaneous</td>\n",
              "      <td>positive</td>\n",
              "      <td>27</td>\n",
              "    </tr>\n",
              "    <tr>\n",
              "      <th>2528</th>\n",
              "      <td>1597</td>\n",
              "      <td>[Quality, ingredients, preparation, all, aroun...</td>\n",
              "      <td>food</td>\n",
              "      <td>positive</td>\n",
              "      <td>14</td>\n",
              "    </tr>\n",
              "    <tr>\n",
              "      <th>...</th>\n",
              "      <td>...</td>\n",
              "      <td>...</td>\n",
              "      <td>...</td>\n",
              "      <td>...</td>\n",
              "      <td>...</td>\n",
              "    </tr>\n",
              "    <tr>\n",
              "      <th>3151</th>\n",
              "      <td>2853</td>\n",
              "      <td>[I, would, highly, recommend, this, place, to,...</td>\n",
              "      <td>anecdotes/miscellaneous</td>\n",
              "      <td>positive</td>\n",
              "      <td>12</td>\n",
              "    </tr>\n",
              "    <tr>\n",
              "      <th>3152</th>\n",
              "      <td>1163</td>\n",
              "      <td>[The, service, is, fantastic, .]</td>\n",
              "      <td>service</td>\n",
              "      <td>positive</td>\n",
              "      <td>5</td>\n",
              "    </tr>\n",
              "    <tr>\n",
              "      <th>3153</th>\n",
              "      <td>216</td>\n",
              "      <td>[I, recommend, that, you, try, this, hidden, s...</td>\n",
              "      <td>anecdotes/miscellaneous</td>\n",
              "      <td>positive</td>\n",
              "      <td>14</td>\n",
              "    </tr>\n",
              "    <tr>\n",
              "      <th>3154</th>\n",
              "      <td>1109</td>\n",
              "      <td>[The, garlic, mashed, potatoes, are, hands, do...</td>\n",
              "      <td>food</td>\n",
              "      <td>positive</td>\n",
              "      <td>13</td>\n",
              "    </tr>\n",
              "    <tr>\n",
              "      <th>3155</th>\n",
              "      <td>899</td>\n",
              "      <td>[Food, and, service, was, okay, .]</td>\n",
              "      <td>food</td>\n",
              "      <td>neutral</td>\n",
              "      <td>6</td>\n",
              "    </tr>\n",
              "  </tbody>\n",
              "</table>\n",
              "<p>632 rows × 5 columns</p>\n",
              "</div>"
            ],
            "text/plain": [
              "        id                                          tokenized  ...  polarity length\n",
              "2524  3235  [The, staff, has, always, been, friendly, with...  ...  positive     22\n",
              "2525  3480                             [Get, it, together, .]  ...  negative      4\n",
              "2526  1459  [The, eggplant, parmesan, is, also, great, ,, ...  ...  positive     27\n",
              "2527  1459  [The, eggplant, parmesan, is, also, great, ,, ...  ...  positive     27\n",
              "2528  1597  [Quality, ingredients, preparation, all, aroun...  ...  positive     14\n",
              "...    ...                                                ...  ...       ...    ...\n",
              "3151  2853  [I, would, highly, recommend, this, place, to,...  ...  positive     12\n",
              "3152  1163                   [The, service, is, fantastic, .]  ...  positive      5\n",
              "3153   216  [I, recommend, that, you, try, this, hidden, s...  ...  positive     14\n",
              "3154  1109  [The, garlic, mashed, potatoes, are, hands, do...  ...  positive     13\n",
              "3155   899                 [Food, and, service, was, okay, .]  ...   neutral      6\n",
              "\n",
              "[632 rows x 5 columns]"
            ]
          },
          "metadata": {
            "tags": []
          },
          "execution_count": 26
        }
      ]
    },
    {
      "cell_type": "code",
      "metadata": {
        "id": "dkhh0Ug1ZQ76",
        "colab_type": "code",
        "colab": {
          "base_uri": "https://localhost:8080/",
          "height": 103
        },
        "outputId": "7b9e0b83-a0d7-4ccb-909e-d6c251067014"
      },
      "source": [
        "m_model = KeyedVectors.load_word2vec_format('tokenized.bin', binary=True)\n",
        "# vocabulary size of pre-trained model\n",
        "vocab_size = len(m_model.vocab)\n",
        "print('vocab size:', vocab_size)\n",
        "# vector dimension\n",
        "vector_dim = (len(m_model['go']))\n",
        "print('vector dimension:', vector_dim)\n",
        "# max length (กำหนดเอง)\n",
        "max_len = 50"
      ],
      "execution_count": null,
      "outputs": [
        {
          "output_type": "stream",
          "text": [
            "vocab size: 1070\n",
            "vector dimension: 300\n"
          ],
          "name": "stdout"
        },
        {
          "output_type": "stream",
          "text": [
            "/usr/local/lib/python3.6/dist-packages/smart_open/smart_open_lib.py:402: UserWarning: This function is deprecated, use smart_open.open instead. See the migration notes for details: https://github.com/RaRe-Technologies/smart_open/blob/master/README.rst#migrating-to-the-new-open-function\n",
            "  'See the migration notes for details: %s' % _MIGRATION_NOTES_URL\n"
          ],
          "name": "stderr"
        }
      ]
    },
    {
      "cell_type": "code",
      "metadata": {
        "id": "xeV_F3okZ7uR",
        "colab_type": "code",
        "colab": {}
      },
      "source": [
        "word_to_index = {'PADDING':0}\n",
        "# make weight matrix of word embedding, vocab size + 1 (for padding)\n",
        "embedding_matrix = np.zeros((vocab_size+1, vector_dim), dtype=\"float32\")\n",
        "embedding_matrix[0] = np.zeros(vector_dim)\n",
        "for i, word in enumerate(m_model.vocab):\n",
        "    word_to_index[word] = i+1\n",
        "    embedding_matrix[i+1] = m_model[word] "
      ],
      "execution_count": null,
      "outputs": []
    },
    {
      "cell_type": "code",
      "metadata": {
        "id": "u0tNyGSHaHOu",
        "colab_type": "code",
        "colab": {
          "base_uri": "https://localhost:8080/",
          "height": 33
        },
        "outputId": "b5713d96-4292-4d82-9683-c3edf8923767"
      },
      "source": [
        "word_to_index['go']"
      ],
      "execution_count": null,
      "outputs": [
        {
          "output_type": "execute_result",
          "data": {
            "text/plain": [
              "44"
            ]
          },
          "metadata": {
            "tags": []
          },
          "execution_count": 29
        }
      ]
    },
    {
      "cell_type": "code",
      "metadata": {
        "id": "IugftFcLaTob",
        "colab_type": "code",
        "colab": {}
      },
      "source": [
        "# convert word to index (maximum: first 500 words)\n",
        "def w2i(tokens):\n",
        "    return [word_to_index.get(word, 0) for word in tokens[:max_len]]\n",
        "\n",
        "# apply functions & convert to np.array\n",
        "input_train = np.array(train['tokenized'].apply(w2i).tolist())\n",
        "input_dev = np.array(dev['tokenized'].apply(w2i).tolist())\n",
        "\n",
        "# input : zero padding\n",
        "train_x = pad_sequences(input_train, max_len, padding='post')\n",
        "dev_x = pad_sequences(input_dev, max_len, padding='post')"
      ],
      "execution_count": null,
      "outputs": []
    },
    {
      "cell_type": "code",
      "metadata": {
        "id": "CvWm9O73aqXj",
        "colab_type": "code",
        "colab": {
          "base_uri": "https://localhost:8080/",
          "height": 133
        },
        "outputId": "3d4671fd-5bf2-4050-c9be-c4231d34c2a5"
      },
      "source": [
        "input_train"
      ],
      "execution_count": null,
      "outputs": [
        {
          "output_type": "execute_result",
          "data": {
            "text/plain": [
              "array([list([0, 1, 83, 9, 41, 405, 7, 102, 2]),\n",
              "       list([0, 37, 539, 617, 3, 1, 97, 0, 0, 9, 1, 11, 3, 95, 9, 374, 218, 3, 17, 108, 32, 155, 112, 12, 46, 1, 115, 0, 10, 0, 2]),\n",
              "       list([0, 37, 539, 617, 3, 1, 97, 0, 0, 9, 1, 11, 3, 95, 9, 374, 218, 3, 17, 108, 32, 155, 112, 12, 46, 1, 115, 0, 10, 0, 2]),\n",
              "       ...,\n",
              "       list([0, 28, 322, 30, 0, 0, 30, 273, 441, 124, 4, 0, 88, 192, 7, 44, 70, 12, 68, 21]),\n",
              "       list([0, 36, 260, 20, 1, 0, 71, 10, 97, 186, 501, 728, 336, 43, 115, 109, 448, 425, 501, 42, 4, 900, 112, 893, 5, 703, 0, 2]),\n",
              "       list([0, 0, 11, 2])], dtype=object)"
            ]
          },
          "metadata": {
            "tags": []
          },
          "execution_count": 31
        }
      ]
    },
    {
      "cell_type": "code",
      "metadata": {
        "id": "HMDNdQdhxVzx",
        "colab_type": "code",
        "colab": {}
      },
      "source": [
        "# relabel: scheme 2 (only 3 category)\n",
        "def relabel(aspn):\n",
        "    return {'service':0, 'food':1, 'anecdotes/miscellaneous':2, 'ambience':3, 'price':4}[aspn]\n",
        "\n",
        "# apply functions & convert to np.array\n",
        "label_train = np.array(train['aspectCategory'].apply(relabel).tolist())\n",
        "label_dev = np.array(dev['aspectCategory'].apply(relabel).tolist())\n",
        "\n",
        "# label : one-hot vector\n",
        "train_y = to_categorical(label_train, num_classes=5)\n",
        "dev_y = to_categorical(label_dev, num_classes=5)"
      ],
      "execution_count": null,
      "outputs": []
    },
    {
      "cell_type": "code",
      "metadata": {
        "id": "snL_5dgEzMLL",
        "colab_type": "code",
        "colab": {
          "base_uri": "https://localhost:8080/",
          "height": 83
        },
        "outputId": "2d3514a1-d536-4b21-cd79-b17a9d234120"
      },
      "source": [
        "# check the shape\n",
        "print('input train:', train_x.shape)\n",
        "print('input dev:', dev_x.shape)\n",
        "print('label train:', train_y.shape)\n",
        "print('label dev:',dev_y.shape)"
      ],
      "execution_count": null,
      "outputs": [
        {
          "output_type": "stream",
          "text": [
            "input train: (2524, 50)\n",
            "input dev: (632, 50)\n",
            "label train: (2524, 5)\n",
            "label dev: (632, 5)\n"
          ],
          "name": "stdout"
        }
      ]
    },
    {
      "cell_type": "code",
      "metadata": {
        "id": "_BVneutnzdnZ",
        "colab_type": "code",
        "colab": {
          "base_uri": "https://localhost:8080/",
          "height": 283
        },
        "outputId": "cc58bbcd-085f-44db-e018-683979e52caa"
      },
      "source": [
        "# instantiation\n",
        "model = Sequential()\n",
        "\n",
        "# add embedding layer\n",
        "model.add(Embedding(input_dim=vocab_size+1,\n",
        "                    input_length=max_len,\n",
        "                    output_dim=vector_dim, \n",
        "                    weights=[embedding_matrix], \n",
        "                    mask_zero=False,\n",
        "                    trainable=True))\n",
        "\n",
        "# average\n",
        "model.add(GlobalAveragePooling1D())\n",
        "\n",
        "# add hidden layer\n",
        "model.add(Dense(100, activation='relu'))\n",
        "# add output layer\n",
        "model.add(Dense(5, activation='softmax'))\n",
        "\n",
        "# compile model\n",
        "model.compile(optimizer=\"rmsprop\", loss=\"categorical_crossentropy\", metrics=[\"accuracy\"])\n",
        "\n",
        "model.summary()"
      ],
      "execution_count": null,
      "outputs": [
        {
          "output_type": "stream",
          "text": [
            "Model: \"sequential_5\"\n",
            "_________________________________________________________________\n",
            "Layer (type)                 Output Shape              Param #   \n",
            "=================================================================\n",
            "embedding_5 (Embedding)      (None, 50, 300)           321300    \n",
            "_________________________________________________________________\n",
            "global_average_pooling1d_5 ( (None, 300)               0         \n",
            "_________________________________________________________________\n",
            "dense_12 (Dense)             (None, 100)               30100     \n",
            "_________________________________________________________________\n",
            "dense_13 (Dense)             (None, 5)                 505       \n",
            "=================================================================\n",
            "Total params: 351,905\n",
            "Trainable params: 351,905\n",
            "Non-trainable params: 0\n",
            "_________________________________________________________________\n"
          ],
          "name": "stdout"
        }
      ]
    },
    {
      "cell_type": "code",
      "metadata": {
        "id": "tTZH5C_ZzoJl",
        "colab_type": "code",
        "colab": {
          "base_uri": "https://localhost:8080/",
          "height": 1000
        },
        "outputId": "6b2a17e1-fb05-480e-9f18-007716074738"
      },
      "source": [
        "# train\n",
        "history = model.fit(train_x, train_y, batch_size=128, epochs=100, validation_data=(dev_x, dev_y))"
      ],
      "execution_count": null,
      "outputs": [
        {
          "output_type": "stream",
          "text": [
            "Train on 2524 samples, validate on 632 samples\n",
            "Epoch 1/100\n",
            "2524/2524 [==============================] - 1s 297us/step - loss: 1.5197 - acc: 0.3360 - val_loss: 1.5019 - val_acc: 0.3323\n",
            "Epoch 2/100\n",
            "2524/2524 [==============================] - 0s 119us/step - loss: 1.4592 - acc: 0.3871 - val_loss: 1.4667 - val_acc: 0.3766\n",
            "Epoch 3/100\n",
            "2524/2524 [==============================] - 0s 118us/step - loss: 1.4261 - acc: 0.4188 - val_loss: 1.4481 - val_acc: 0.3940\n",
            "Epoch 4/100\n",
            "2524/2524 [==============================] - 0s 116us/step - loss: 1.4000 - acc: 0.4271 - val_loss: 1.4289 - val_acc: 0.4035\n",
            "Epoch 5/100\n",
            "2524/2524 [==============================] - 0s 113us/step - loss: 1.3755 - acc: 0.4517 - val_loss: 1.4047 - val_acc: 0.4209\n",
            "Epoch 6/100\n",
            "2524/2524 [==============================] - 0s 109us/step - loss: 1.3418 - acc: 0.4770 - val_loss: 1.3739 - val_acc: 0.4415\n",
            "Epoch 7/100\n",
            "2524/2524 [==============================] - 0s 112us/step - loss: 1.3027 - acc: 0.5071 - val_loss: 1.3612 - val_acc: 0.4842\n",
            "Epoch 8/100\n",
            "2524/2524 [==============================] - 0s 111us/step - loss: 1.2608 - acc: 0.5329 - val_loss: 1.3043 - val_acc: 0.4953\n",
            "Epoch 9/100\n",
            "2524/2524 [==============================] - 0s 115us/step - loss: 1.2165 - acc: 0.5464 - val_loss: 1.2634 - val_acc: 0.5206\n",
            "Epoch 10/100\n",
            "2524/2524 [==============================] - 0s 118us/step - loss: 1.1704 - acc: 0.5674 - val_loss: 1.2234 - val_acc: 0.5332\n",
            "Epoch 11/100\n",
            "2524/2524 [==============================] - 0s 133us/step - loss: 1.1270 - acc: 0.5804 - val_loss: 1.1912 - val_acc: 0.5601\n",
            "Epoch 12/100\n",
            "2524/2524 [==============================] - 0s 115us/step - loss: 1.0845 - acc: 0.5979 - val_loss: 1.1624 - val_acc: 0.5491\n",
            "Epoch 13/100\n",
            "2524/2524 [==============================] - 0s 109us/step - loss: 1.0467 - acc: 0.6066 - val_loss: 1.1366 - val_acc: 0.5839\n",
            "Epoch 14/100\n",
            "2524/2524 [==============================] - 0s 116us/step - loss: 1.0134 - acc: 0.6248 - val_loss: 1.1194 - val_acc: 0.5839\n",
            "Epoch 15/100\n",
            "2524/2524 [==============================] - 0s 114us/step - loss: 0.9815 - acc: 0.6335 - val_loss: 1.0999 - val_acc: 0.5997\n",
            "Epoch 16/100\n",
            "2524/2524 [==============================] - 0s 114us/step - loss: 0.9541 - acc: 0.6470 - val_loss: 1.1309 - val_acc: 0.5791\n",
            "Epoch 17/100\n",
            "2524/2524 [==============================] - 0s 119us/step - loss: 0.9310 - acc: 0.6529 - val_loss: 1.0853 - val_acc: 0.6092\n",
            "Epoch 18/100\n",
            "2524/2524 [==============================] - 0s 113us/step - loss: 0.9052 - acc: 0.6613 - val_loss: 1.0767 - val_acc: 0.6155\n",
            "Epoch 19/100\n",
            "2524/2524 [==============================] - 0s 117us/step - loss: 0.8828 - acc: 0.6743 - val_loss: 1.0637 - val_acc: 0.6092\n",
            "Epoch 20/100\n",
            "2524/2524 [==============================] - 0s 111us/step - loss: 0.8611 - acc: 0.6743 - val_loss: 1.0737 - val_acc: 0.6218\n",
            "Epoch 21/100\n",
            "2524/2524 [==============================] - 0s 117us/step - loss: 0.8452 - acc: 0.6842 - val_loss: 1.0465 - val_acc: 0.6155\n",
            "Epoch 22/100\n",
            "2524/2524 [==============================] - 0s 110us/step - loss: 0.8260 - acc: 0.6858 - val_loss: 1.0789 - val_acc: 0.6123\n",
            "Epoch 23/100\n",
            "2524/2524 [==============================] - 0s 108us/step - loss: 0.8089 - acc: 0.6965 - val_loss: 1.0519 - val_acc: 0.6250\n",
            "Epoch 24/100\n",
            "2524/2524 [==============================] - 0s 111us/step - loss: 0.7912 - acc: 0.7013 - val_loss: 1.0364 - val_acc: 0.6408\n",
            "Epoch 25/100\n",
            "2524/2524 [==============================] - 0s 113us/step - loss: 0.7777 - acc: 0.6961 - val_loss: 1.0349 - val_acc: 0.6377\n",
            "Epoch 26/100\n",
            "2524/2524 [==============================] - 0s 117us/step - loss: 0.7649 - acc: 0.7013 - val_loss: 1.0355 - val_acc: 0.6266\n",
            "Epoch 27/100\n",
            "2524/2524 [==============================] - 0s 108us/step - loss: 0.7446 - acc: 0.7120 - val_loss: 1.0698 - val_acc: 0.6313\n",
            "Epoch 28/100\n",
            "2524/2524 [==============================] - 0s 116us/step - loss: 0.7312 - acc: 0.7167 - val_loss: 1.0358 - val_acc: 0.6361\n",
            "Epoch 29/100\n",
            "2524/2524 [==============================] - 0s 113us/step - loss: 0.7212 - acc: 0.7167 - val_loss: 1.0317 - val_acc: 0.6519\n",
            "Epoch 30/100\n",
            "2524/2524 [==============================] - 0s 112us/step - loss: 0.7062 - acc: 0.7250 - val_loss: 1.0459 - val_acc: 0.6203\n",
            "Epoch 31/100\n",
            "2524/2524 [==============================] - 0s 116us/step - loss: 0.6947 - acc: 0.7270 - val_loss: 1.0258 - val_acc: 0.6440\n",
            "Epoch 32/100\n",
            "2524/2524 [==============================] - 0s 114us/step - loss: 0.6828 - acc: 0.7254 - val_loss: 1.0338 - val_acc: 0.6535\n",
            "Epoch 33/100\n",
            "2524/2524 [==============================] - 0s 113us/step - loss: 0.6680 - acc: 0.7365 - val_loss: 1.0519 - val_acc: 0.6392\n",
            "Epoch 34/100\n",
            "2524/2524 [==============================] - 0s 112us/step - loss: 0.6633 - acc: 0.7334 - val_loss: 1.0339 - val_acc: 0.6440\n",
            "Epoch 35/100\n",
            "2524/2524 [==============================] - 0s 122us/step - loss: 0.6514 - acc: 0.7310 - val_loss: 1.0379 - val_acc: 0.6487\n",
            "Epoch 36/100\n",
            "2524/2524 [==============================] - 0s 115us/step - loss: 0.6374 - acc: 0.7409 - val_loss: 1.0992 - val_acc: 0.6361\n",
            "Epoch 37/100\n",
            "2524/2524 [==============================] - 0s 113us/step - loss: 0.6292 - acc: 0.7445 - val_loss: 1.0575 - val_acc: 0.6566\n",
            "Epoch 38/100\n",
            "2524/2524 [==============================] - 0s 116us/step - loss: 0.6159 - acc: 0.7492 - val_loss: 1.0414 - val_acc: 0.6440\n",
            "Epoch 39/100\n",
            "2524/2524 [==============================] - 0s 115us/step - loss: 0.6139 - acc: 0.7464 - val_loss: 1.0672 - val_acc: 0.6519\n",
            "Epoch 40/100\n",
            "2524/2524 [==============================] - 0s 114us/step - loss: 0.6027 - acc: 0.7492 - val_loss: 1.0547 - val_acc: 0.6535\n",
            "Epoch 41/100\n",
            "2524/2524 [==============================] - 0s 120us/step - loss: 0.5953 - acc: 0.7460 - val_loss: 1.0727 - val_acc: 0.6472\n",
            "Epoch 42/100\n",
            "2524/2524 [==============================] - 0s 130us/step - loss: 0.5878 - acc: 0.7508 - val_loss: 1.0705 - val_acc: 0.6551\n",
            "Epoch 43/100\n",
            "2524/2524 [==============================] - 0s 126us/step - loss: 0.5847 - acc: 0.7516 - val_loss: 1.0779 - val_acc: 0.6551\n",
            "Epoch 44/100\n",
            "2524/2524 [==============================] - 0s 116us/step - loss: 0.5703 - acc: 0.7532 - val_loss: 1.0757 - val_acc: 0.6551\n",
            "Epoch 45/100\n",
            "2524/2524 [==============================] - 0s 117us/step - loss: 0.5712 - acc: 0.7575 - val_loss: 1.0893 - val_acc: 0.6472\n",
            "Epoch 46/100\n",
            "2524/2524 [==============================] - 0s 125us/step - loss: 0.5649 - acc: 0.7611 - val_loss: 1.1285 - val_acc: 0.6566\n",
            "Epoch 47/100\n",
            "2524/2524 [==============================] - 0s 120us/step - loss: 0.5551 - acc: 0.7587 - val_loss: 1.1202 - val_acc: 0.6361\n",
            "Epoch 48/100\n",
            "2524/2524 [==============================] - 0s 115us/step - loss: 0.5450 - acc: 0.7623 - val_loss: 1.0948 - val_acc: 0.6519\n",
            "Epoch 49/100\n",
            "2524/2524 [==============================] - 0s 125us/step - loss: 0.5433 - acc: 0.7623 - val_loss: 1.1162 - val_acc: 0.6503\n",
            "Epoch 50/100\n",
            "2524/2524 [==============================] - 0s 112us/step - loss: 0.5363 - acc: 0.7662 - val_loss: 1.1165 - val_acc: 0.6377\n",
            "Epoch 51/100\n",
            "2524/2524 [==============================] - 0s 115us/step - loss: 0.5320 - acc: 0.7579 - val_loss: 1.1327 - val_acc: 0.6377\n",
            "Epoch 52/100\n",
            "2524/2524 [==============================] - 0s 115us/step - loss: 0.5256 - acc: 0.7662 - val_loss: 1.1413 - val_acc: 0.6440\n",
            "Epoch 53/100\n",
            "2524/2524 [==============================] - 0s 111us/step - loss: 0.5206 - acc: 0.7670 - val_loss: 1.1810 - val_acc: 0.6487\n",
            "Epoch 54/100\n",
            "2524/2524 [==============================] - 0s 112us/step - loss: 0.5185 - acc: 0.7631 - val_loss: 1.1573 - val_acc: 0.6392\n",
            "Epoch 55/100\n",
            "2524/2524 [==============================] - 0s 115us/step - loss: 0.5155 - acc: 0.7631 - val_loss: 1.2049 - val_acc: 0.6456\n",
            "Epoch 56/100\n",
            "2524/2524 [==============================] - 0s 118us/step - loss: 0.5076 - acc: 0.7651 - val_loss: 1.1605 - val_acc: 0.6472\n",
            "Epoch 57/100\n",
            "2524/2524 [==============================] - 0s 114us/step - loss: 0.5084 - acc: 0.7666 - val_loss: 1.1786 - val_acc: 0.6424\n",
            "Epoch 58/100\n",
            "2524/2524 [==============================] - 0s 119us/step - loss: 0.4982 - acc: 0.7690 - val_loss: 1.1998 - val_acc: 0.6487\n",
            "Epoch 59/100\n",
            "2524/2524 [==============================] - 0s 114us/step - loss: 0.4987 - acc: 0.7647 - val_loss: 1.1904 - val_acc: 0.6392\n",
            "Epoch 60/100\n",
            "2524/2524 [==============================] - 0s 115us/step - loss: 0.4889 - acc: 0.7765 - val_loss: 1.2425 - val_acc: 0.6440\n",
            "Epoch 61/100\n",
            "2524/2524 [==============================] - 0s 117us/step - loss: 0.4890 - acc: 0.7690 - val_loss: 1.2113 - val_acc: 0.6472\n",
            "Epoch 62/100\n",
            "2524/2524 [==============================] - 0s 122us/step - loss: 0.4835 - acc: 0.7686 - val_loss: 1.2073 - val_acc: 0.6503\n",
            "Epoch 63/100\n",
            "2524/2524 [==============================] - 0s 123us/step - loss: 0.4792 - acc: 0.7718 - val_loss: 1.2319 - val_acc: 0.6519\n",
            "Epoch 64/100\n",
            "2524/2524 [==============================] - 0s 123us/step - loss: 0.4793 - acc: 0.7651 - val_loss: 1.2682 - val_acc: 0.6535\n",
            "Epoch 65/100\n",
            "2524/2524 [==============================] - 0s 115us/step - loss: 0.4752 - acc: 0.7746 - val_loss: 1.2541 - val_acc: 0.6408\n",
            "Epoch 66/100\n",
            "2524/2524 [==============================] - 0s 118us/step - loss: 0.4696 - acc: 0.7773 - val_loss: 1.2531 - val_acc: 0.6472\n",
            "Epoch 67/100\n",
            "2524/2524 [==============================] - 0s 112us/step - loss: 0.4694 - acc: 0.7809 - val_loss: 1.2547 - val_acc: 0.6424\n",
            "Epoch 68/100\n",
            "2524/2524 [==============================] - 0s 114us/step - loss: 0.4677 - acc: 0.7761 - val_loss: 1.2661 - val_acc: 0.6440\n",
            "Epoch 69/100\n",
            "2524/2524 [==============================] - 0s 112us/step - loss: 0.4563 - acc: 0.7837 - val_loss: 1.2569 - val_acc: 0.6345\n",
            "Epoch 70/100\n",
            "2524/2524 [==============================] - 0s 108us/step - loss: 0.4594 - acc: 0.7769 - val_loss: 1.2799 - val_acc: 0.6456\n",
            "Epoch 71/100\n",
            "2524/2524 [==============================] - 0s 112us/step - loss: 0.4573 - acc: 0.7789 - val_loss: 1.2847 - val_acc: 0.6345\n",
            "Epoch 72/100\n",
            "2524/2524 [==============================] - 0s 109us/step - loss: 0.4543 - acc: 0.7785 - val_loss: 1.3160 - val_acc: 0.6250\n",
            "Epoch 73/100\n",
            "2524/2524 [==============================] - 0s 114us/step - loss: 0.4547 - acc: 0.7682 - val_loss: 1.3083 - val_acc: 0.6472\n",
            "Epoch 74/100\n",
            "2524/2524 [==============================] - 0s 118us/step - loss: 0.4499 - acc: 0.7793 - val_loss: 1.3103 - val_acc: 0.6440\n",
            "Epoch 75/100\n",
            "2524/2524 [==============================] - 0s 112us/step - loss: 0.4444 - acc: 0.7853 - val_loss: 1.3943 - val_acc: 0.6313\n",
            "Epoch 76/100\n",
            "2524/2524 [==============================] - 0s 117us/step - loss: 0.4454 - acc: 0.7754 - val_loss: 1.3656 - val_acc: 0.6329\n",
            "Epoch 77/100\n",
            "2524/2524 [==============================] - 0s 120us/step - loss: 0.4485 - acc: 0.7750 - val_loss: 1.3263 - val_acc: 0.6503\n",
            "Epoch 78/100\n",
            "2524/2524 [==============================] - 0s 120us/step - loss: 0.4385 - acc: 0.7785 - val_loss: 1.3391 - val_acc: 0.6424\n",
            "Epoch 79/100\n",
            "2524/2524 [==============================] - 0s 117us/step - loss: 0.4355 - acc: 0.7857 - val_loss: 1.3341 - val_acc: 0.6392\n",
            "Epoch 80/100\n",
            "2524/2524 [==============================] - 0s 122us/step - loss: 0.4402 - acc: 0.7857 - val_loss: 1.3584 - val_acc: 0.6472\n",
            "Epoch 81/100\n",
            "2524/2524 [==============================] - 0s 125us/step - loss: 0.4293 - acc: 0.7805 - val_loss: 1.3594 - val_acc: 0.6440\n",
            "Epoch 82/100\n",
            "2524/2524 [==============================] - 0s 141us/step - loss: 0.4413 - acc: 0.7750 - val_loss: 1.3604 - val_acc: 0.6440\n",
            "Epoch 83/100\n",
            "2524/2524 [==============================] - 0s 124us/step - loss: 0.4330 - acc: 0.7773 - val_loss: 1.3848 - val_acc: 0.6472\n",
            "Epoch 84/100\n",
            "2524/2524 [==============================] - 0s 117us/step - loss: 0.4328 - acc: 0.7726 - val_loss: 1.3802 - val_acc: 0.6519\n",
            "Epoch 85/100\n",
            "2524/2524 [==============================] - 0s 123us/step - loss: 0.4231 - acc: 0.7884 - val_loss: 1.3974 - val_acc: 0.6408\n",
            "Epoch 86/100\n",
            "2524/2524 [==============================] - 0s 129us/step - loss: 0.4275 - acc: 0.7845 - val_loss: 1.4137 - val_acc: 0.6440\n",
            "Epoch 87/100\n",
            "2524/2524 [==============================] - 0s 115us/step - loss: 0.4244 - acc: 0.7769 - val_loss: 1.4524 - val_acc: 0.6408\n",
            "Epoch 88/100\n",
            "2524/2524 [==============================] - 0s 122us/step - loss: 0.4218 - acc: 0.7845 - val_loss: 1.5184 - val_acc: 0.6297\n",
            "Epoch 89/100\n",
            "2524/2524 [==============================] - 0s 116us/step - loss: 0.4209 - acc: 0.7861 - val_loss: 1.4301 - val_acc: 0.6424\n",
            "Epoch 90/100\n",
            "2524/2524 [==============================] - 0s 120us/step - loss: 0.4188 - acc: 0.7849 - val_loss: 1.5125 - val_acc: 0.6392\n",
            "Epoch 91/100\n",
            "2524/2524 [==============================] - 0s 118us/step - loss: 0.4159 - acc: 0.7853 - val_loss: 1.4348 - val_acc: 0.6361\n",
            "Epoch 92/100\n",
            "2524/2524 [==============================] - 0s 124us/step - loss: 0.4195 - acc: 0.7817 - val_loss: 1.4340 - val_acc: 0.6408\n",
            "Epoch 93/100\n",
            "2524/2524 [==============================] - 0s 140us/step - loss: 0.4163 - acc: 0.7837 - val_loss: 1.4765 - val_acc: 0.6392\n",
            "Epoch 94/100\n",
            "2524/2524 [==============================] - 0s 127us/step - loss: 0.4098 - acc: 0.7825 - val_loss: 1.4760 - val_acc: 0.6503\n",
            "Epoch 95/100\n",
            "2524/2524 [==============================] - 0s 138us/step - loss: 0.4099 - acc: 0.7857 - val_loss: 1.5313 - val_acc: 0.6361\n",
            "Epoch 96/100\n",
            "2524/2524 [==============================] - 0s 120us/step - loss: 0.4126 - acc: 0.7797 - val_loss: 1.5036 - val_acc: 0.6424\n",
            "Epoch 97/100\n",
            "2524/2524 [==============================] - 0s 118us/step - loss: 0.4127 - acc: 0.7785 - val_loss: 1.4907 - val_acc: 0.6472\n",
            "Epoch 98/100\n",
            "2524/2524 [==============================] - 0s 117us/step - loss: 0.4070 - acc: 0.7801 - val_loss: 1.5035 - val_acc: 0.6392\n",
            "Epoch 99/100\n",
            "2524/2524 [==============================] - 0s 117us/step - loss: 0.4079 - acc: 0.7841 - val_loss: 1.5368 - val_acc: 0.6456\n",
            "Epoch 100/100\n",
            "2524/2524 [==============================] - 0s 111us/step - loss: 0.4032 - acc: 0.7865 - val_loss: 1.5332 - val_acc: 0.6345\n"
          ],
          "name": "stdout"
        }
      ]
    },
    {
      "cell_type": "code",
      "metadata": {
        "id": "rFZVJuddz72U",
        "colab_type": "code",
        "colab": {
          "base_uri": "https://localhost:8080/",
          "height": 282
        },
        "outputId": "ade63003-83bb-446b-f291-87a4c02594fa"
      },
      "source": [
        "plt.plot(history.history['acc'])\n",
        "plt.plot(history.history['val_acc'])\n",
        "plt.ylabel('accuracy')\n",
        "plt.xlabel('epoch')\n",
        "plt.legend(['train', 'dev'], loc='best')\n",
        "plt.show()"
      ],
      "execution_count": null,
      "outputs": [
        {
          "output_type": "display_data",
          "data": {
            "image/png": "[encoded data removed]",
            "text/plain": [
              "<Figure size 432x288 with 1 Axes>"
            ]
          },
          "metadata": {
            "tags": []
          }
        }
      ]
    },
    {
      "cell_type": "code",
      "metadata": {
        "id": "iXSb2hQ40F3z",
        "colab_type": "code",
        "colab": {
          "base_uri": "https://localhost:8080/",
          "height": 282
        },
        "outputId": "4a5dde75-f368-44c7-afb0-11914d6cf370"
      },
      "source": [
        "plt.plot(history.history['loss'])\n",
        "plt.plot(history.history['val_loss'])\n",
        "plt.ylabel('loss')\n",
        "plt.xlabel('epoch')\n",
        "plt.legend(['train', 'dev'], loc='best')\n",
        "plt.show()"
      ],
      "execution_count": null,
      "outputs": [
        {
          "output_type": "display_data",
          "data": {
            "image/png": "[encoded data removed]",
            "text/plain": [
              "<Figure size 432x288 with 1 Axes>"
            ]
          },
          "metadata": {
            "tags": []
          }
        }
      ]
    },
    {
      "cell_type": "code",
      "metadata": {
        "id": "zJIbjabq0Jtf",
        "colab_type": "code",
        "colab": {
          "base_uri": "https://localhost:8080/",
          "height": 200
        },
        "outputId": "64fc7ad9-bee0-4813-c404-e1873a944a20"
      },
      "source": [
        "prediction = [np.argmax(x) for x in model.predict(dev_x)]\n",
        "print(classification_report(label_dev, prediction))"
      ],
      "execution_count": null,
      "outputs": [
        {
          "output_type": "stream",
          "text": [
            "              precision    recall  f1-score   support\n",
            "\n",
            "           0       0.23      0.28      0.25        25\n",
            "           1       0.46      0.45      0.45       150\n",
            "           2       0.46      0.34      0.39        77\n",
            "           3       0.78      0.82      0.79       380\n",
            "\n",
            "    accuracy                           0.65       632\n",
            "   macro avg       0.48      0.47      0.47       632\n",
            "weighted avg       0.64      0.65      0.64       632\n",
            "\n"
          ],
          "name": "stdout"
        }
      ]
    },
    {
      "cell_type": "code",
      "metadata": {
        "id": "3HlYsWzT_8ty",
        "colab_type": "code",
        "colab": {}
      },
      "source": [
        "newdf['aspectCategory'] = prediction\n",
        "def rerelabel(aspn):\n",
        "    return {0:'service', 1:'food', 2:'anecdotes/miscellaneous',3: 'ambience', 4:'price'}[aspn]\n",
        "\n",
        "# apply functions & convert to np.array\n",
        "newdf['aspectCategory'] = newdf['aspectCategory'].apply(rerelabel)"
      ],
      "execution_count": null,
      "outputs": []
    },
    {
      "cell_type": "code",
      "metadata": {
        "id": "I2Sn9PYKBQFT",
        "colab_type": "code",
        "colab": {
          "base_uri": "https://localhost:8080/",
          "height": 1000
        },
        "outputId": "b371e6ea-9d29-4950-d3d8-20ad9b4a636e"
      },
      "source": [
        "# relabel: scheme 2 (only 3 category)\n",
        "def relabelse(aspn):\n",
        "    return {'conflict':0, 'negative':1, 'neutral':2,'positive':3}[aspn]\n",
        "\n",
        "# apply functions & convert to np.array\n",
        "label_train = np.array(train['polarity'].apply(relabelse).tolist())\n",
        "label_dev = np.array(dev['polarity'].apply(relabelse).tolist())\n",
        "\n",
        "# label : one-hot vector\n",
        "train_y = to_categorical(label_train, num_classes=4)\n",
        "dev_y = to_categorical(label_dev, num_classes=4)\n",
        "# instantiation\n",
        "model = Sequential()\n",
        "\n",
        "# add embedding layer\n",
        "model.add(Embedding(input_dim=vocab_size+1,\n",
        "                    input_length=max_len,\n",
        "                    output_dim=vector_dim, \n",
        "                    weights=[embedding_matrix], \n",
        "                    mask_zero=False,\n",
        "                    trainable=True))\n",
        "\n",
        "# average\n",
        "model.add(GlobalAveragePooling1D())\n",
        "\n",
        "# add hidden layer\n",
        "model.add(Dense(100, activation='relu'))\n",
        "# add output layer\n",
        "model.add(Dense(4, activation='softmax'))\n",
        "\n",
        "# compile model\n",
        "model.compile(optimizer=\"rmsprop\", loss=\"categorical_crossentropy\", metrics=[\"accuracy\"])\n",
        "\n",
        "model.summary()\n",
        "history = model.fit(train_x, train_y, batch_size=128, epochs=100, validation_data=(dev_x, dev_y))"
      ],
      "execution_count": null,
      "outputs": [
        {
          "output_type": "stream",
          "text": [
            "Model: \"sequential_6\"\n",
            "_________________________________________________________________\n",
            "Layer (type)                 Output Shape              Param #   \n",
            "=================================================================\n",
            "embedding_6 (Embedding)      (None, 50, 300)           321300    \n",
            "_________________________________________________________________\n",
            "global_average_pooling1d_6 ( (None, 300)               0         \n",
            "_________________________________________________________________\n",
            "dense_14 (Dense)             (None, 100)               30100     \n",
            "_________________________________________________________________\n",
            "dense_15 (Dense)             (None, 4)                 404       \n",
            "=================================================================\n",
            "Total params: 351,804\n",
            "Trainable params: 351,804\n",
            "Non-trainable params: 0\n",
            "_________________________________________________________________\n",
            "Train on 2524 samples, validate on 632 samples\n",
            "Epoch 1/100\n",
            "2524/2524 [==============================] - 1s 383us/step - loss: 1.1464 - acc: 0.5713 - val_loss: 1.0603 - val_acc: 0.6013\n",
            "Epoch 2/100\n",
            "2524/2524 [==============================] - 0s 142us/step - loss: 1.0660 - acc: 0.5927 - val_loss: 1.0249 - val_acc: 0.6013\n",
            "Epoch 3/100\n",
            "2524/2524 [==============================] - 0s 129us/step - loss: 1.0336 - acc: 0.5939 - val_loss: 1.0068 - val_acc: 0.5981\n",
            "Epoch 4/100\n",
            "2524/2524 [==============================] - 0s 123us/step - loss: 1.0090 - acc: 0.6006 - val_loss: 0.9903 - val_acc: 0.6028\n",
            "Epoch 5/100\n",
            "2524/2524 [==============================] - 0s 127us/step - loss: 0.9819 - acc: 0.6058 - val_loss: 0.9732 - val_acc: 0.5965\n",
            "Epoch 6/100\n",
            "2524/2524 [==============================] - 0s 115us/step - loss: 0.9535 - acc: 0.6149 - val_loss: 0.9673 - val_acc: 0.6013\n",
            "Epoch 7/100\n",
            "2524/2524 [==============================] - 0s 118us/step - loss: 0.9213 - acc: 0.6268 - val_loss: 0.9346 - val_acc: 0.6044\n",
            "Epoch 8/100\n",
            "2524/2524 [==============================] - 0s 124us/step - loss: 0.8902 - acc: 0.6379 - val_loss: 0.9201 - val_acc: 0.6060\n",
            "Epoch 9/100\n",
            "2524/2524 [==============================] - 0s 121us/step - loss: 0.8639 - acc: 0.6513 - val_loss: 0.9056 - val_acc: 0.6123\n",
            "Epoch 10/100\n",
            "2524/2524 [==============================] - 0s 111us/step - loss: 0.8351 - acc: 0.6577 - val_loss: 0.8916 - val_acc: 0.6123\n",
            "Epoch 11/100\n",
            "2524/2524 [==============================] - 0s 116us/step - loss: 0.8121 - acc: 0.6723 - val_loss: 0.8807 - val_acc: 0.6282\n",
            "Epoch 12/100\n",
            "2524/2524 [==============================] - 0s 122us/step - loss: 0.7916 - acc: 0.6751 - val_loss: 0.8769 - val_acc: 0.6392\n",
            "Epoch 13/100\n",
            "2524/2524 [==============================] - 0s 121us/step - loss: 0.7713 - acc: 0.6787 - val_loss: 0.8597 - val_acc: 0.6297\n",
            "Epoch 14/100\n",
            "2524/2524 [==============================] - 0s 119us/step - loss: 0.7511 - acc: 0.6933 - val_loss: 0.8565 - val_acc: 0.6440\n",
            "Epoch 15/100\n",
            "2524/2524 [==============================] - 0s 122us/step - loss: 0.7363 - acc: 0.6941 - val_loss: 0.8655 - val_acc: 0.6345\n",
            "Epoch 16/100\n",
            "2524/2524 [==============================] - 0s 115us/step - loss: 0.7190 - acc: 0.7029 - val_loss: 0.8442 - val_acc: 0.6377\n",
            "Epoch 17/100\n",
            "2524/2524 [==============================] - 0s 121us/step - loss: 0.7028 - acc: 0.7092 - val_loss: 0.8319 - val_acc: 0.6551\n",
            "Epoch 18/100\n",
            "2524/2524 [==============================] - 0s 120us/step - loss: 0.6846 - acc: 0.7231 - val_loss: 0.8574 - val_acc: 0.6440\n",
            "Epoch 19/100\n",
            "2524/2524 [==============================] - 0s 123us/step - loss: 0.6698 - acc: 0.7262 - val_loss: 0.8406 - val_acc: 0.6709\n",
            "Epoch 20/100\n",
            "2524/2524 [==============================] - 0s 124us/step - loss: 0.6537 - acc: 0.7306 - val_loss: 0.8261 - val_acc: 0.6566\n",
            "Epoch 21/100\n",
            "2524/2524 [==============================] - 0s 118us/step - loss: 0.6368 - acc: 0.7460 - val_loss: 0.8288 - val_acc: 0.6614\n",
            "Epoch 22/100\n",
            "2524/2524 [==============================] - 0s 125us/step - loss: 0.6239 - acc: 0.7421 - val_loss: 0.8190 - val_acc: 0.6677\n",
            "Epoch 23/100\n",
            "2524/2524 [==============================] - 0s 126us/step - loss: 0.6061 - acc: 0.7615 - val_loss: 0.8350 - val_acc: 0.6551\n",
            "Epoch 24/100\n",
            "2524/2524 [==============================] - 0s 124us/step - loss: 0.5940 - acc: 0.7607 - val_loss: 0.8443 - val_acc: 0.6661\n",
            "Epoch 25/100\n",
            "2524/2524 [==============================] - 0s 123us/step - loss: 0.5845 - acc: 0.7706 - val_loss: 0.8318 - val_acc: 0.6709\n",
            "Epoch 26/100\n",
            "2524/2524 [==============================] - 0s 122us/step - loss: 0.5608 - acc: 0.7758 - val_loss: 0.8330 - val_acc: 0.6725\n",
            "Epoch 27/100\n",
            "2524/2524 [==============================] - 0s 119us/step - loss: 0.5532 - acc: 0.7904 - val_loss: 0.8340 - val_acc: 0.6756\n",
            "Epoch 28/100\n",
            "2524/2524 [==============================] - 0s 123us/step - loss: 0.5380 - acc: 0.7936 - val_loss: 0.8355 - val_acc: 0.6788\n",
            "Epoch 29/100\n",
            "2524/2524 [==============================] - 0s 120us/step - loss: 0.5314 - acc: 0.7968 - val_loss: 0.8586 - val_acc: 0.6630\n",
            "Epoch 30/100\n",
            "2524/2524 [==============================] - 0s 119us/step - loss: 0.5139 - acc: 0.7999 - val_loss: 0.8452 - val_acc: 0.6725\n",
            "Epoch 31/100\n",
            "2524/2524 [==============================] - 0s 120us/step - loss: 0.5037 - acc: 0.8031 - val_loss: 0.8566 - val_acc: 0.6788\n",
            "Epoch 32/100\n",
            "2524/2524 [==============================] - 0s 124us/step - loss: 0.4952 - acc: 0.8090 - val_loss: 0.8846 - val_acc: 0.6693\n",
            "Epoch 33/100\n",
            "2524/2524 [==============================] - 0s 116us/step - loss: 0.4829 - acc: 0.8205 - val_loss: 0.8747 - val_acc: 0.6693\n",
            "Epoch 34/100\n",
            "2524/2524 [==============================] - 0s 122us/step - loss: 0.4731 - acc: 0.8245 - val_loss: 0.8896 - val_acc: 0.6614\n",
            "Epoch 35/100\n",
            "2524/2524 [==============================] - 0s 124us/step - loss: 0.4634 - acc: 0.8213 - val_loss: 0.8871 - val_acc: 0.6741\n",
            "Epoch 36/100\n",
            "2524/2524 [==============================] - 0s 127us/step - loss: 0.4529 - acc: 0.8265 - val_loss: 0.8883 - val_acc: 0.6709\n",
            "Epoch 37/100\n",
            "2524/2524 [==============================] - 0s 126us/step - loss: 0.4455 - acc: 0.8308 - val_loss: 0.9026 - val_acc: 0.6661\n",
            "Epoch 38/100\n",
            "2524/2524 [==============================] - 0s 128us/step - loss: 0.4395 - acc: 0.8324 - val_loss: 0.9347 - val_acc: 0.6646\n",
            "Epoch 39/100\n",
            "2524/2524 [==============================] - 0s 124us/step - loss: 0.4260 - acc: 0.8316 - val_loss: 0.9288 - val_acc: 0.6630\n",
            "Epoch 40/100\n",
            "2524/2524 [==============================] - 0s 136us/step - loss: 0.4198 - acc: 0.8360 - val_loss: 0.9401 - val_acc: 0.6630\n",
            "Epoch 41/100\n",
            "2524/2524 [==============================] - 0s 125us/step - loss: 0.4153 - acc: 0.8427 - val_loss: 0.9634 - val_acc: 0.6614\n",
            "Epoch 42/100\n",
            "2524/2524 [==============================] - 0s 123us/step - loss: 0.4052 - acc: 0.8455 - val_loss: 0.9573 - val_acc: 0.6693\n",
            "Epoch 43/100\n",
            "2524/2524 [==============================] - 0s 125us/step - loss: 0.3999 - acc: 0.8435 - val_loss: 0.9854 - val_acc: 0.6646\n",
            "Epoch 44/100\n",
            "2524/2524 [==============================] - 0s 133us/step - loss: 0.3940 - acc: 0.8451 - val_loss: 0.9987 - val_acc: 0.6646\n",
            "Epoch 45/100\n",
            "2524/2524 [==============================] - 0s 144us/step - loss: 0.3882 - acc: 0.8467 - val_loss: 1.0975 - val_acc: 0.6677\n",
            "Epoch 46/100\n",
            "2524/2524 [==============================] - 0s 131us/step - loss: 0.3771 - acc: 0.8574 - val_loss: 1.0324 - val_acc: 0.6756\n",
            "Epoch 47/100\n",
            "2524/2524 [==============================] - 0s 131us/step - loss: 0.3720 - acc: 0.8526 - val_loss: 1.0221 - val_acc: 0.6756\n",
            "Epoch 48/100\n",
            "2524/2524 [==============================] - 0s 130us/step - loss: 0.3680 - acc: 0.8578 - val_loss: 1.0328 - val_acc: 0.6614\n",
            "Epoch 49/100\n",
            "2524/2524 [==============================] - 0s 121us/step - loss: 0.3616 - acc: 0.8566 - val_loss: 1.0716 - val_acc: 0.6709\n",
            "Epoch 50/100\n",
            "2524/2524 [==============================] - 0s 124us/step - loss: 0.3656 - acc: 0.8427 - val_loss: 1.0544 - val_acc: 0.6756\n",
            "Epoch 51/100\n",
            "2524/2524 [==============================] - 0s 128us/step - loss: 0.3495 - acc: 0.8645 - val_loss: 1.1084 - val_acc: 0.6693\n",
            "Epoch 52/100\n",
            "2524/2524 [==============================] - 0s 120us/step - loss: 0.3446 - acc: 0.8629 - val_loss: 1.0967 - val_acc: 0.6772\n",
            "Epoch 53/100\n",
            "2524/2524 [==============================] - 0s 128us/step - loss: 0.3484 - acc: 0.8633 - val_loss: 1.0977 - val_acc: 0.6661\n",
            "Epoch 54/100\n",
            "2524/2524 [==============================] - 0s 118us/step - loss: 0.3401 - acc: 0.8578 - val_loss: 1.1978 - val_acc: 0.6772\n",
            "Epoch 55/100\n",
            "2524/2524 [==============================] - 0s 122us/step - loss: 0.3311 - acc: 0.8661 - val_loss: 1.1211 - val_acc: 0.6772\n",
            "Epoch 56/100\n",
            "2524/2524 [==============================] - 0s 126us/step - loss: 0.3294 - acc: 0.8657 - val_loss: 1.1936 - val_acc: 0.6741\n",
            "Epoch 57/100\n",
            "2524/2524 [==============================] - 0s 126us/step - loss: 0.3238 - acc: 0.8716 - val_loss: 1.1344 - val_acc: 0.6646\n",
            "Epoch 58/100\n",
            "2524/2524 [==============================] - 0s 121us/step - loss: 0.3192 - acc: 0.8673 - val_loss: 1.1670 - val_acc: 0.6282\n",
            "Epoch 59/100\n",
            "2524/2524 [==============================] - 0s 129us/step - loss: 0.3168 - acc: 0.8732 - val_loss: 1.1773 - val_acc: 0.6646\n",
            "Epoch 60/100\n",
            "2524/2524 [==============================] - 0s 130us/step - loss: 0.3177 - acc: 0.8744 - val_loss: 1.2248 - val_acc: 0.6741\n",
            "Epoch 61/100\n",
            "2524/2524 [==============================] - 0s 128us/step - loss: 0.3072 - acc: 0.8815 - val_loss: 1.1818 - val_acc: 0.6535\n",
            "Epoch 62/100\n",
            "2524/2524 [==============================] - 0s 129us/step - loss: 0.3079 - acc: 0.8772 - val_loss: 1.2926 - val_acc: 0.6725\n",
            "Epoch 63/100\n",
            "2524/2524 [==============================] - 0s 135us/step - loss: 0.3010 - acc: 0.8831 - val_loss: 1.2513 - val_acc: 0.6835\n",
            "Epoch 64/100\n",
            "2524/2524 [==============================] - 0s 127us/step - loss: 0.2983 - acc: 0.8788 - val_loss: 1.3355 - val_acc: 0.6788\n",
            "Epoch 65/100\n",
            "2524/2524 [==============================] - 0s 129us/step - loss: 0.3016 - acc: 0.8748 - val_loss: 1.2640 - val_acc: 0.6851\n",
            "Epoch 66/100\n",
            "2524/2524 [==============================] - 0s 129us/step - loss: 0.2902 - acc: 0.8863 - val_loss: 1.2569 - val_acc: 0.6630\n",
            "Epoch 67/100\n",
            "2524/2524 [==============================] - 0s 123us/step - loss: 0.2866 - acc: 0.8803 - val_loss: 1.3032 - val_acc: 0.6820\n",
            "Epoch 68/100\n",
            "2524/2524 [==============================] - 0s 123us/step - loss: 0.2908 - acc: 0.8811 - val_loss: 1.3077 - val_acc: 0.6741\n",
            "Epoch 69/100\n",
            "2524/2524 [==============================] - 0s 118us/step - loss: 0.2805 - acc: 0.8891 - val_loss: 1.4565 - val_acc: 0.6756\n",
            "Epoch 70/100\n",
            "2524/2524 [==============================] - 0s 126us/step - loss: 0.2836 - acc: 0.8843 - val_loss: 1.4583 - val_acc: 0.6756\n",
            "Epoch 71/100\n",
            "2524/2524 [==============================] - 0s 119us/step - loss: 0.2835 - acc: 0.8827 - val_loss: 1.3611 - val_acc: 0.6820\n",
            "Epoch 72/100\n",
            "2524/2524 [==============================] - 0s 127us/step - loss: 0.2771 - acc: 0.8863 - val_loss: 1.4345 - val_acc: 0.6772\n",
            "Epoch 73/100\n",
            "2524/2524 [==============================] - 0s 128us/step - loss: 0.2750 - acc: 0.8891 - val_loss: 1.3725 - val_acc: 0.6709\n",
            "Epoch 74/100\n",
            "2524/2524 [==============================] - 0s 124us/step - loss: 0.2710 - acc: 0.8847 - val_loss: 1.4214 - val_acc: 0.6646\n",
            "Epoch 75/100\n",
            "2524/2524 [==============================] - 0s 124us/step - loss: 0.2687 - acc: 0.8883 - val_loss: 1.4455 - val_acc: 0.6851\n",
            "Epoch 76/100\n",
            "2524/2524 [==============================] - 0s 137us/step - loss: 0.2680 - acc: 0.8871 - val_loss: 1.4299 - val_acc: 0.6804\n",
            "Epoch 77/100\n",
            "2524/2524 [==============================] - 0s 129us/step - loss: 0.2623 - acc: 0.8914 - val_loss: 1.4859 - val_acc: 0.6788\n",
            "Epoch 78/100\n",
            "2524/2524 [==============================] - 0s 127us/step - loss: 0.2595 - acc: 0.8918 - val_loss: 1.4632 - val_acc: 0.6851\n",
            "Epoch 79/100\n",
            "2524/2524 [==============================] - 0s 125us/step - loss: 0.2539 - acc: 0.8934 - val_loss: 1.4486 - val_acc: 0.6329\n",
            "Epoch 80/100\n",
            "2524/2524 [==============================] - 0s 123us/step - loss: 0.2636 - acc: 0.8883 - val_loss: 1.4814 - val_acc: 0.6693\n",
            "Epoch 81/100\n",
            "2524/2524 [==============================] - 0s 125us/step - loss: 0.2565 - acc: 0.8918 - val_loss: 1.5501 - val_acc: 0.6804\n",
            "Epoch 82/100\n",
            "2524/2524 [==============================] - 0s 121us/step - loss: 0.2568 - acc: 0.8958 - val_loss: 1.4965 - val_acc: 0.6646\n",
            "Epoch 83/100\n",
            "2524/2524 [==============================] - 0s 127us/step - loss: 0.2490 - acc: 0.8926 - val_loss: 1.5082 - val_acc: 0.6503\n",
            "Epoch 84/100\n",
            "2524/2524 [==============================] - 0s 125us/step - loss: 0.2547 - acc: 0.8934 - val_loss: 1.5216 - val_acc: 0.6598\n",
            "Epoch 85/100\n",
            "2524/2524 [==============================] - 0s 126us/step - loss: 0.2498 - acc: 0.8982 - val_loss: 1.5638 - val_acc: 0.6677\n",
            "Epoch 86/100\n",
            "2524/2524 [==============================] - 0s 123us/step - loss: 0.2423 - acc: 0.9013 - val_loss: 1.5831 - val_acc: 0.6741\n",
            "Epoch 87/100\n",
            "2524/2524 [==============================] - 0s 122us/step - loss: 0.2467 - acc: 0.8914 - val_loss: 1.6366 - val_acc: 0.6661\n",
            "Epoch 88/100\n",
            "2524/2524 [==============================] - 0s 130us/step - loss: 0.2432 - acc: 0.8962 - val_loss: 1.5924 - val_acc: 0.6661\n",
            "Epoch 89/100\n",
            "2524/2524 [==============================] - 0s 135us/step - loss: 0.2387 - acc: 0.9037 - val_loss: 1.5977 - val_acc: 0.6630\n",
            "Epoch 90/100\n",
            "2524/2524 [==============================] - 0s 126us/step - loss: 0.2389 - acc: 0.8970 - val_loss: 1.6662 - val_acc: 0.6661\n",
            "Epoch 91/100\n",
            "2524/2524 [==============================] - 0s 133us/step - loss: 0.2402 - acc: 0.8954 - val_loss: 1.6266 - val_acc: 0.6598\n",
            "Epoch 92/100\n",
            "2524/2524 [==============================] - 0s 140us/step - loss: 0.2358 - acc: 0.9033 - val_loss: 1.6252 - val_acc: 0.6551\n",
            "Epoch 93/100\n",
            "2524/2524 [==============================] - 0s 136us/step - loss: 0.2359 - acc: 0.8998 - val_loss: 1.6567 - val_acc: 0.6440\n",
            "Epoch 94/100\n",
            "2524/2524 [==============================] - 0s 121us/step - loss: 0.2295 - acc: 0.9053 - val_loss: 1.6626 - val_acc: 0.6250\n",
            "Epoch 95/100\n",
            "2524/2524 [==============================] - 0s 117us/step - loss: 0.2317 - acc: 0.8950 - val_loss: 1.6904 - val_acc: 0.6630\n",
            "Epoch 96/100\n",
            "2524/2524 [==============================] - 0s 120us/step - loss: 0.2293 - acc: 0.9033 - val_loss: 1.6780 - val_acc: 0.6155\n",
            "Epoch 97/100\n",
            "2524/2524 [==============================] - 0s 125us/step - loss: 0.2299 - acc: 0.9073 - val_loss: 1.7599 - val_acc: 0.6661\n",
            "Epoch 98/100\n",
            "2524/2524 [==============================] - 0s 122us/step - loss: 0.2267 - acc: 0.9013 - val_loss: 1.7217 - val_acc: 0.6614\n",
            "Epoch 99/100\n",
            "2524/2524 [==============================] - 0s 120us/step - loss: 0.2238 - acc: 0.9089 - val_loss: 1.7255 - val_acc: 0.6582\n",
            "Epoch 100/100\n",
            "2524/2524 [==============================] - 0s 121us/step - loss: 0.2263 - acc: 0.8994 - val_loss: 1.7338 - val_acc: 0.6487\n"
          ],
          "name": "stdout"
        }
      ]
    },
    {
      "cell_type": "code",
      "metadata": {
        "id": "9YFvFcfRCNpU",
        "colab_type": "code",
        "colab": {}
      },
      "source": [
        "newdf['polarity'] = prediction\n",
        "def rerelabel(aspn):\n",
        "    return {0:'conflict',1: 'negative',2: 'neutral',3:'positive'}[aspn]\n",
        "\n",
        "# apply functions & convert to np.array\n",
        "newdf['polarity'] = newdf['polarity'].apply(rerelabel)"
      ],
      "execution_count": null,
      "outputs": []
    },
    {
      "cell_type": "code",
      "metadata": {
        "id": "6a1kDs6xBH_K",
        "colab_type": "code",
        "colab": {}
      },
      "source": [
        "# export to csv\n",
        "newdf.to_csv('pred.csv', index=None)"
      ],
      "execution_count": null,
      "outputs": []
    },
    {
      "cell_type": "code",
      "metadata": {
        "id": "NXNzdwJXBKK0",
        "colab_type": "code",
        "colab": {
          "base_uri": "https://localhost:8080/",
          "height": 400
        },
        "outputId": "9c12f661-383e-4538-828d-7a046a353529"
      },
      "source": [
        "# evaluate \"lab4_train.csv\" ไม่ต้องเปลี่ยน\n",
        "!python3 evaluate.py lab4_train.csv pred.csv"
      ],
      "execution_count": null,
      "outputs": [
        {
          "output_type": "stream",
          "text": [
            "=== CLASSIFICATION : ASPECT ===\n",
            "                class name  precision  recall  F1-score support\n",
            "0                     food      0.855   0.724     0.784     203\n",
            "1                    price      0.933   0.233     0.373      60\n",
            "2                  service      0.746   0.510     0.606     104\n",
            "3                 ambience      0.771   0.521     0.622      71\n",
            "4  anecdotes/miscellaneous      0.785   0.773     0.779     194\n",
            "5                MACRO AVG      0.818   0.552     0.633     632\n",
            "6                MICRO AVG      0.807   0.634     0.710     632 \n",
            "\n",
            "=== CLASSIFICATION : SENTIMENT ===\n",
            "  class name  precision  recall  F1-score support\n",
            "0   positive      0.784   0.794     0.789     306\n",
            "1   negative      0.450   0.432     0.441     125\n",
            "2    neutral      0.542   0.351     0.426      74\n",
            "3   conflict      0.316   0.250     0.279      24\n",
            "4  MACRO AVG      0.523   0.457     0.484     529\n",
            "5  MICRO AVG      0.662   0.622     0.641     529 \n",
            "\n",
            "=== CLASSIFICATION : OVERALL ===\n",
            "              precision  recall  F1-score support\n",
            "0  MICRO AVG      0.543   0.427     0.478     632 \n",
            "\n"
          ],
          "name": "stdout"
        }
      ]
    }
  ]
}